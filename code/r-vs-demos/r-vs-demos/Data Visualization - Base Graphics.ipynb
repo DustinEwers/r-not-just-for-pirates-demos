{
 "cells": [
  {
   "cell_type": "code",
   "execution_count": 6,
   "metadata": {
    "collapsed": false
   },
   "outputs": [
    {
     "data": {
      "text/html": [
       "'c:/Code/r-talk-demos/code/r-vs-demos/r-vs-demos'"
      ],
      "text/latex": [
       "'c:/Code/r-talk-demos/code/r-vs-demos/r-vs-demos'"
      ],
      "text/markdown": [
       "'c:/Code/r-talk-demos/code/r-vs-demos/r-vs-demos'"
      ],
      "text/plain": [
       "[1] \"c:/Code/r-talk-demos/code/r-vs-demos/r-vs-demos\""
      ]
     },
     "metadata": {},
     "output_type": "display_data"
    }
   ],
   "source": [
    "getwd()"
   ]
  },
  {
   "cell_type": "markdown",
   "metadata": {},
   "source": [
    "# Data Visualization Using Base Graphics\n",
    "There's two primary apis for graphics in R. ggplot2 and base graphics (the built in plotting library)\n",
    "\n",
    "This demo uses base because it's easier. "
   ]
  },
  {
   "cell_type": "code",
   "execution_count": 10,
   "metadata": {
    "collapsed": false
   },
   "outputs": [],
   "source": [
    "#Let's get some data\n",
    "povertyDf = read.csv(\"./data/world_poverty_in_millions.csv\")"
   ]
  },
  {
   "cell_type": "code",
   "execution_count": 12,
   "metadata": {
    "collapsed": true
   },
   "outputs": [],
   "source": [
    "#lets make the dates into years\n",
    "getYear = function(x) { as.numeric(format(as.Date(x), '%Y')) }\n",
    "povertyDf$Year = unlist(lapply(povertyDf$Date, getYear))"
   ]
  },
  {
   "cell_type": "code",
   "execution_count": 22,
   "metadata": {
    "collapsed": true
   },
   "outputs": [],
   "source": [
    "#order the data by date asc\n",
    "povertyDf = povertyDf[order(povertyDf$Year, decreasing = FALSE),]"
   ]
  },
  {
   "cell_type": "code",
   "execution_count": 29,
   "metadata": {
    "collapsed": true
   },
   "outputs": [],
   "source": [
    "#resize the default plot size so we can actually read it on screen\n",
    "options(repr.plot.width=6, repr.plot.height=4)"
   ]
  },
  {
   "cell_type": "code",
   "execution_count": 28,
   "metadata": {
    "collapsed": false
   },
   "outputs": [
    {
     "data": {
      "image/png": "[encoded data removed]",
      "text/plain": [
       "plot without title"
      ]
     },
     "metadata": {},
     "output_type": "display_data"
    }
   ],
   "source": [
    "#A very basic barchart. Just the two data sets. \n",
    "barplot(povertyDf$Value, names.arg = povertyDf$Year)"
   ]
  },
  {
   "cell_type": "code",
   "execution_count": null,
   "metadata": {
    "collapsed": false
   },
   "outputs": [],
   "source": [
    "# adding in some labels\n",
    "barplot(povertyDf$Value, names.arg = povertyDf$Year, main = \"World Poverty in Millions\", xlab = \"Year\", ylab = \"People in Poverty (Millions)\")"
   ]
  },
  {
   "cell_type": "code",
   "execution_count": 17,
   "metadata": {
    "collapsed": true
   },
   "outputs": [],
   "source": [
    "#lets make things a little prettier using par()\n",
    "par(bg = \"#EDFBFF\", las = 1, col.lab = \"#262626\", col.axis = \"#262626\", cex.axis = 0.9, cex.lab = 1.25, cex.main = 1.5)"
   ]
  },
  {
   "cell_type": "code",
   "execution_count": 30,
   "metadata": {
    "collapsed": false
   },
   "outputs": [
    {
     "data": {
      "image/png": "[encoded data removed]",
      "text/plain": [
       "Plot with title \"World Poverty in Millions\""
      ]
     },
     "metadata": {},
     "output_type": "display_data"
    }
   ],
   "source": [
    "#lets tweak the look a little bit more\n",
    "barplot(povertyDf$Value, names.arg = povertyDf$Year,\n",
    "    main = \"World Poverty in Millions\",\n",
    "    xlab = \"Year\", ylab = \"People in Poverty (Millions)\",\n",
    "    ylim = c(0, 2000), col = \"#00B01A\")"
   ]
  },
  {
   "cell_type": "code",
   "execution_count": 31,
   "metadata": {
    "collapsed": false
   },
   "outputs": [
    {
     "data": {
      "image/png": "[encoded data removed]",
      "text/plain": [
       "Plot with title \"World Poverty in Millions\""
      ]
     },
     "metadata": {},
     "output_type": "display_data"
    }
   ],
   "source": [
    "#let's try a line chart instead | type l = line chart\n",
    "plot(povertyDf$Year, povertyDf$Value, type = \"l\",\n",
    "    main = \"World Poverty in Millions\",\n",
    "    xlab = \"Year\", ylab = \"People in Poverty (Millions)\",\n",
    "    ylim = c(0, 2000), xlim = c(1980, 2013), col = \"#00475E\", lwd = 3)"
   ]
  },
  {
   "cell_type": "code",
   "execution_count": 33,
   "metadata": {
    "collapsed": false
   },
   "outputs": [
    {
     "data": {
      "text/html": [
       "<strong>png:</strong> 2"
      ],
      "text/latex": [
       "\\textbf{png:} 2"
      ],
      "text/markdown": [
       "**png:** 2"
      ],
      "text/plain": [
       "png \n",
       "  2 "
      ]
     },
     "metadata": {},
     "output_type": "display_data"
    }
   ],
   "source": [
    "# we can save plots too | Supported formats include: svg(), pdf(), jpeg(), png()...\n",
    "png(\"data/Poverty_In_Millions.png\", width = 800, height = 1000)\n",
    "barplot(povertyDf$Value, names.arg = povertyDf$Year,\n",
    "    main = \"World Poverty in Millions\",\n",
    "    xlab = \"Year\", ylab = \"People in Poverty (Millions)\",\n",
    "    ylim = c(0, 2000), col = \"#00B01A\")\n",
    "dev.off() #turns off the plot saving"
   ]
  },
  {
   "cell_type": "code",
   "execution_count": null,
   "metadata": {
    "collapsed": true
   },
   "outputs": [],
   "source": []
  },
  {
   "cell_type": "code",
   "execution_count": null,
   "metadata": {
    "collapsed": true
   },
   "outputs": [],
   "source": []
  },
  {
   "cell_type": "code",
   "execution_count": null,
   "metadata": {
    "collapsed": true
   },
   "outputs": [],
   "source": []
  }
 ],
 "metadata": {
  "kernelspec": {
   "display_name": "R",
   "language": "R",
   "name": "ir"
  },
  "language_info": {
   "codemirror_mode": "r",
   "file_extension": ".r",
   "mimetype": "text/x-r-source",
   "name": "R",
   "pygments_lexer": "r",
   "version": "3.3.2"
  }
 },
 "nbformat": 4,
 "nbformat_minor": 2
}
